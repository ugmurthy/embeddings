{
 "cells": [
  {
   "cell_type": "code",
   "execution_count": 1,
   "id": "3344099e-74c9-4ea8-8f64-feef525a7f2b",
   "metadata": {},
   "outputs": [
    {
     "data": {
      "text/plain": [
       "'\\n# 17/Aug/2023\\n# References:\\n# https://www.sbert.net/index.html\\n# https://trychroma.com\\n\\n# Installation\\n$ pip install -U sentence-transformers\\n$ pip install chromadb\\n\\n'"
      ]
     },
     "execution_count": 1,
     "metadata": {},
     "output_type": "execute_result"
    }
   ],
   "source": [
    "'''\n",
    "# 17/Aug/2023\n",
    "# References:\n",
    "# https://www.sbert.net/index.html\n",
    "# https://trychroma.com\n",
    "\n",
    "# Installation\n",
    "$ pip install -U sentence-transformers\n",
    "$ pip install chromadb\n",
    "\n",
    "'''"
   ]
  },
  {
   "cell_type": "code",
   "execution_count": 2,
   "id": "81b68f5f-88ad-4eab-a1cf-7907ce5a785c",
   "metadata": {},
   "outputs": [],
   "source": [
    "import os"
   ]
  },
  {
   "cell_type": "code",
   "execution_count": 3,
   "id": "be32f178-482b-4b23-af66-b345686aa819",
   "metadata": {},
   "outputs": [],
   "source": [
    "import numpy as np"
   ]
  },
  {
   "cell_type": "code",
   "execution_count": 4,
   "id": "8f2c2c85-fe1a-48a7-ae80-f3e1a4a95913",
   "metadata": {},
   "outputs": [],
   "source": [
    "from sentence_transformers import SentenceTransformer\n",
    "model = SentenceTransformer('all-MiniLM-L6-v2')\n"
   ]
  },
  {
   "cell_type": "code",
   "execution_count": 5,
   "id": "bb337a7d-e039-4371-89b6-facabac06545",
   "metadata": {},
   "outputs": [
    {
     "data": {
      "text/plain": [
       "sentence_transformers.SentenceTransformer.SentenceTransformer"
      ]
     },
     "execution_count": 5,
     "metadata": {},
     "output_type": "execute_result"
    }
   ],
   "source": [
    "type(model)"
   ]
  },
  {
   "cell_type": "code",
   "execution_count": 6,
   "id": "a5795367-7bee-4582-8930-466cb3dc6dfd",
   "metadata": {},
   "outputs": [
    {
     "name": "stdout",
     "output_type": "stream",
     "text": [
      "['This framework generates embeddings for each input sentence', 'Sentences are passed as a list of string.', 'The quick brown fox jumps over the lazy dog.']\n"
     ]
    }
   ],
   "source": [
    "sentences = ['This framework generates embeddings for each input sentence',\n",
    "    'Sentences are passed as a list of string.', \n",
    "    'The quick brown fox jumps over the lazy dog.']\n",
    "print(sentences)\n"
   ]
  },
  {
   "cell_type": "code",
   "execution_count": 7,
   "id": "a43d7e03-94cc-4277-a8a3-07a1a2753ff8",
   "metadata": {},
   "outputs": [
    {
     "name": "stdout",
     "output_type": "stream",
     "text": [
      "Number of sentences : 3\n",
      "Sentence 0 has 59 chars\n",
      "Sentence 1 has 41 chars\n",
      "Sentence 2 has 44 chars\n",
      "Sentence embeddings shape : (3, 384)\n",
      "Each embedding type is : <class 'numpy.ndarray'>, has dimensions (384,)\n"
     ]
    }
   ],
   "source": [
    "print(f\"Number of sentences : {len(sentences)}\")\n",
    "for i in range(len(sentences)):\n",
    "    print(f\"Sentence {i} has {len(sentences[i])} chars\")\n",
    "sentence_embeddings = model.encode(sentences)\n",
    "print(f\"Sentence embeddings shape : {sentence_embeddings.shape}\")\n",
    "print(f\"Each embedding type is : {type(sentence_embeddings[0])}, has dimensions {sentence_embeddings[0].shape}\")\n"
   ]
  },
  {
   "cell_type": "code",
   "execution_count": 8,
   "id": "99835b27-08d8-4ddf-af99-b26d0e75205a",
   "metadata": {},
   "outputs": [],
   "source": [
    "from chromadb.utils import embedding_functions"
   ]
  },
  {
   "cell_type": "code",
   "execution_count": 9,
   "id": "f4b9622a-2c27-44d5-b042-65b72e00a7b1",
   "metadata": {},
   "outputs": [],
   "source": [
    "# By default Chroma uses : \n",
    "embedding_func = embedding_functions.DefaultEmbeddingFunction()"
   ]
  },
  {
   "cell_type": "code",
   "execution_count": 10,
   "id": "74cb5e93-f25f-4aad-a938-7dd7adae03e1",
   "metadata": {},
   "outputs": [],
   "source": [
    "# change model name in case you want to use a different model\n",
    "#sentence_transformer_ef = embedding_functions\n",
    "#    .SentenceTransformerEmbeddingFunction(model_name=\"all-MiniLM-L6-v2\")"
   ]
  },
  {
   "cell_type": "code",
   "execution_count": 11,
   "id": "1f2d00ad-278e-4d93-84ed-cff34687b305",
   "metadata": {},
   "outputs": [],
   "source": [
    "#### Try in memory client\n",
    "import chromadb\n",
    "chroma_client = chromadb.Client()\n"
   ]
  },
  {
   "cell_type": "code",
   "execution_count": 12,
   "id": "a3958cf1-e2ff-4ab7-bea7-384fcbfd3bfe",
   "metadata": {},
   "outputs": [],
   "source": [
    "collection = chroma_client.create_collection(name=\"my_collection\")"
   ]
  },
  {
   "cell_type": "code",
   "execution_count": 13,
   "id": "ed3fa3d6-6057-435b-b0dd-51394bde9c9b",
   "metadata": {},
   "outputs": [],
   "source": [
    "## Cannot use embedding  from sentence transformer as it does not return a list\n",
    "## the number of metadatas and ids should match with number of documents\n",
    "## in this case len(sentences) = len(metadatas) = len(ids)\n",
    "## note :  sentence transformer as returns ndarray instead of list and that ended up in error\n",
    "## here collection.add is using sentence_emsentence_embeddings after converting to list\n",
    "collection.add(\n",
    "    documents=sentences,\n",
    "    embeddings=sentence_embeddings.tolist(),\n",
    "    metadatas=[{\"source\": \"id1\"},{\"source\":\"id2\"},{\"source\":\"id3\"}],\n",
    "    ids=[\"id1\", \"id2\",\"id3\"]\n",
    ")\n",
    "\n",
    "## or using  embedding function (returns list)\n",
    "collection.add(\n",
    "    documents=sentences,\n",
    "    embeddings=embedding_func(sentences),\n",
    "    metadatas=[{\"source\": \"id11\"},{\"source\":\"id22\"},{\"source\":\"id33\"}],\n",
    "    ids=[\"id11\", \"id22\",\"id33\"]\n",
    ")"
   ]
  },
  {
   "cell_type": "code",
   "execution_count": 14,
   "id": "c196a37f-6254-49f7-9db4-8e9847b833b6",
   "metadata": {},
   "outputs": [
    {
     "data": {
      "text/plain": [
       "{'ids': ['id1', 'id2', 'id3', 'id11', 'id22', 'id33'],\n",
       " 'embeddings': None,\n",
       " 'metadatas': [{'source': 'id1'},\n",
       "  {'source': 'id2'},\n",
       "  {'source': 'id3'},\n",
       "  {'source': 'id11'},\n",
       "  {'source': 'id22'},\n",
       "  {'source': 'id33'}],\n",
       " 'documents': ['This framework generates embeddings for each input sentence',\n",
       "  'Sentences are passed as a list of string.',\n",
       "  'The quick brown fox jumps over the lazy dog.',\n",
       "  'This framework generates embeddings for each input sentence',\n",
       "  'Sentences are passed as a list of string.',\n",
       "  'The quick brown fox jumps over the lazy dog.']}"
      ]
     },
     "execution_count": 14,
     "metadata": {},
     "output_type": "execute_result"
    }
   ],
   "source": [
    "collection.get()"
   ]
  },
  {
   "cell_type": "code",
   "execution_count": null,
   "id": "a5b68ee4-06b8-443e-86b0-a9d27ff1fdd7",
   "metadata": {},
   "outputs": [],
   "source": [
    "collection.peek()"
   ]
  },
  {
   "cell_type": "code",
   "execution_count": 21,
   "id": "57747f69-d051-41c0-b7dd-5e3fba60bc0e",
   "metadata": {},
   "outputs": [
    {
     "data": {
      "text/plain": [
       "{'ids': ['id1'],\n",
       " 'embeddings': None,\n",
       " 'metadatas': [{'source': 'id1'}],\n",
       " 'documents': ['This framework generates embeddings for each input sentence']}"
      ]
     },
     "execution_count": 21,
     "metadata": {},
     "output_type": "execute_result"
    }
   ],
   "source": [
    "collection.get(where={\"source\":\"id1\"})\n"
   ]
  },
  {
   "cell_type": "code",
   "execution_count": 31,
   "id": "ab7e3baf-2a64-42d2-9a1d-fc5197e848d6",
   "metadata": {},
   "outputs": [
    {
     "data": {
      "text/plain": [
       "{'ids': ['id33'],\n",
       " 'embeddings': None,\n",
       " 'metadatas': [{'source': 'id33'}],\n",
       " 'documents': ['The quick brown fox jumps over the lazy dog.']}"
      ]
     },
     "execution_count": 31,
     "metadata": {},
     "output_type": "execute_result"
    }
   ],
   "source": [
    "collection.get(where={\"source\":\"id33\"})"
   ]
  },
  {
   "cell_type": "code",
   "execution_count": null,
   "id": "8d7e711c-b814-47b0-a896-0f962de07952",
   "metadata": {},
   "outputs": [],
   "source": []
  }
 ],
 "metadata": {
  "kernelspec": {
   "display_name": "Python 3 (ipykernel)",
   "language": "python",
   "name": "python3"
  },
  "language_info": {
   "codemirror_mode": {
    "name": "ipython",
    "version": 3
   },
   "file_extension": ".py",
   "mimetype": "text/x-python",
   "name": "python",
   "nbconvert_exporter": "python",
   "pygments_lexer": "ipython3",
   "version": "3.10.11"
  }
 },
 "nbformat": 4,
 "nbformat_minor": 5
}
