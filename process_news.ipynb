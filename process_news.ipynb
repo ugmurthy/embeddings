{
 "cells": [
  {
   "cell_type": "code",
   "execution_count": null,
   "id": "7bcdc8a6-2e68-49c8-9e57-fed66c3e3fa0",
   "metadata": {},
   "outputs": [],
   "source": [
    "#### This notebook demonstrate populating a vector database (chromadb)\n",
    "\n",
    "The example use text data from a whatsapp newsgroup. A read only group that publishes India business news as one-liner\n",
    "from different newspapers.\n"
   ]
  },
  {
   "cell_type": "code",
   "execution_count": 1,
   "id": "150ab6d4-e883-476b-b26d-645514316cb9",
   "metadata": {},
   "outputs": [],
   "source": [
    "import os\n",
    "import re\n",
    "from datetime import datetime, timedelta\n",
    "\n",
    "from tqdm.notebook import tqdm\n",
    "from time import sleep"
   ]
  },
  {
   "cell_type": "code",
   "execution_count": 2,
   "id": "61be9e1b-ae6f-4525-a87c-a80f9f16e843",
   "metadata": {},
   "outputs": [],
   "source": [
    "import chromadb\n",
    "chroma_client = chromadb.Client()"
   ]
  },
  {
   "cell_type": "markdown",
   "id": "e10d6d75-e3bf-4caa-91c7-ad377b3b2295",
   "metadata": {},
   "source": [
    "### Embedding function\n",
    "By default, Chroma uses the Sentence Transformers all-MiniLM-L6-v2 model to create embeddings. This embedding model can create sentence and document embeddings that can be used for a wide variety of tasks. This embedding function runs locally on your machine, and may require you download the model files (this will happen automatically)."
   ]
  },
  {
   "cell_type": "code",
   "execution_count": 3,
   "id": "80ffa44d-ed11-447a-b587-935e24707247",
   "metadata": {},
   "outputs": [],
   "source": [
    "## VDB related imports\n",
    "from chromadb.utils import embedding_functions\n",
    "# By default Chroma uses \n",
    "embedding_func = embedding_functions.DefaultEmbeddingFunction()\n",
    "news_collection = chroma_client.create_collection(name=\"news\",embedding_function=embedding_func)\n",
    "\n",
    "## news preprocessor\n",
    "from util.text2json import get_news"
   ]
  },
  {
   "cell_type": "code",
   "execution_count": 4,
   "id": "4fab0e90-daba-46b0-81f6-b59a3d2bf152",
   "metadata": {},
   "outputs": [],
   "source": [
    "def add_record(rec,collection):\n",
    "    ''' adds a record to chroma db '''\n",
    "    if type(rec)!=dict: # rec should be a json \n",
    "        return False\n",
    "    if all(x in rec.keys() for x in ['ids' ,'documents','metadatas']) :\n",
    "        try:\n",
    "            collection.add(ids=rec['ids'],documents=rec['documents'],metadatas=rec['metadatas'])\n",
    "        except Exception as e:\n",
    "            print(f\"Error : {e}\")\n",
    "            return False\n",
    "    else:\n",
    "        return False\n"
   ]
  },
  {
   "cell_type": "markdown",
   "id": "9f91dd24-9dd7-41b4-8175-dfb94403fc62",
   "metadata": {},
   "source": [
    "#### PREPROCESSING TEXT FILE\n",
    "\n",
    "get_news return a json making it easy to add to chromadb see: `text2json` notebook for details"
   ]
  },
  {
   "cell_type": "code",
   "execution_count": 5,
   "id": "46fa8ce1-0428-4480-8786-eb718a46a620",
   "metadata": {},
   "outputs": [
    {
     "name": "stdout",
     "output_type": "stream",
     "text": [
      "Rejected lines : 140\n",
      "News Items : 12\n"
     ]
    }
   ],
   "source": [
    "news=get_news(\"./_chat.txt\")"
   ]
  },
  {
   "cell_type": "markdown",
   "id": "9878b13e-9ea2-4793-9485-9c9a04d7a573",
   "metadata": {},
   "source": [
    "#### ADD NEWS TO CHROMADB\n",
    "\n",
    "uses helper function `add_record`"
   ]
  },
  {
   "cell_type": "code",
   "execution_count": 8,
   "id": "e1d88c64-7c5a-4ca1-9b80-a896d89e22de",
   "metadata": {},
   "outputs": [
    {
     "data": {
      "application/vnd.jupyter.widget-view+json": {
       "model_id": "bb7276d0862d4e12be174282cf04aab1",
       "version_major": 2,
       "version_minor": 0
      },
      "text/plain": [
       "  0%|          | 0/12 [00:00<?, ?it/s]"
      ]
     },
     "metadata": {},
     "output_type": "display_data"
    }
   ],
   "source": [
    "for i in tqdm(range(len(news))):\n",
    "    add_record(news[i],news_collection)"
   ]
  },
  {
   "cell_type": "markdown",
   "id": "547a8993-cc16-4d36-84ea-aa1967322f3d",
   "metadata": {},
   "source": [
    "#### FETCH FROM AND QUERY CHROMADB\n",
    "\n",
    "1. fetch records using `.get` and `.peek` using parameter to limit the output\n",
    "2. use `.query` to filter and search for specific meta data\n",
    "\n",
    "Examples follow"
   ]
  },
  {
   "cell_type": "code",
   "execution_count": 9,
   "id": "78fda68f-efa3-4d72-b54c-249c879d6b31",
   "metadata": {},
   "outputs": [
    {
     "data": {
      "text/plain": [
       "{'ids': ['2023-05-08ET', '2023-05-08BS'],\n",
       " 'embeddings': None,\n",
       " 'metadatas': [{'date': '2023-05-08', 'source': 'Economic Times'},\n",
       "  {'date': '2023-05-08', 'source': 'Business Standard'}],\n",
       " 'documents': ['Aditya Birla Fashion to raise up to ₹800 crore for TCNS acquisition,Indus plans capex push this fiscal to make the most of 5G boom,Blackstone signs binding pact for controlling stake in care hospitals,Equitas Small Finance Bank reports Q4 net profit at Rs 190.03 cr,Coal India Q4 Results: Profit declines 18% YoY to Rs 5,528 crore, dividend declared at Rs 4/share,TPG-backed RR Kabel files IPO papers with Sebi,Gold imports dip 24% to $35 billion in 2022-23,GSTN defers by 3 months implementation of e-invoice reporting time limit,Saudi Arabia economy grew 3.9% in Q1 boosted by non-oil activities,ChrysCap diversifies into public market, launches special fund,Daikin India becomes billion-dollar company, expect to double business in next 3 years,Electronic wearables production in India reaches Rs 8,000 crore in FY23,ASK Property Fund raises over ₹1,500cr',\n",
       "  \"Centre plans to tweak allocation of FAME funds for electric buses,Avighna Group to invest Rs 1,000 crore to develop towers in Mumbai,Tata Starbucks adds bite-sized food, small portions beverages to its menu,Adani's Mundra port cargo adds Rs 80,732 crore to Customs' coffers,Muthoot Microfin to foray into Andhra Pradesh, Telangana in FY24,FM Sitharaman to review state of economy at FSDC meeting on Monday,To avoid 2022 crisis, Indian Railways ferries more coal for electricity,IMF team flags risks to Bangladesh economy as reserves fall further,Realtors closed 87 land deals totalling 1,862 acre in FY23: Anarock,Irdai proposes to tighten norms for media campaigns by insurance cos,AC sales dip 15% in April as temperature falls; expected to recover in May\"]}"
      ]
     },
     "execution_count": 9,
     "metadata": {},
     "output_type": "execute_result"
    }
   ],
   "source": [
    "news_collection.get(limit=2)        # limit to 2 records\n",
    "# you can use peek() instead of get() as it shows embeddings too\n",
    "#news_collection.peek()"
   ]
  },
  {
   "cell_type": "code",
   "execution_count": 17,
   "id": "231f608a-40cd-4559-9870-7433095bebaf",
   "metadata": {},
   "outputs": [
    {
     "data": {
      "text/plain": [
       "{'ids': [['2023-05-09ET', '2023-05-11BS']],\n",
       " 'distances': [[1.7775036096572876, 1.8243114948272705]],\n",
       " 'metadatas': [[{'date': '2023-05-09', 'source': 'Economic Times'},\n",
       "   {'date': '2023-05-11', 'source': 'Business Standard'}]],\n",
       " 'embeddings': None,\n",
       " 'documents': [[\"Allianz-Shapoorji looks to exit Hyderabad's IT SEZ Waverock for Rs 2,000 cr,Energy PSUs eye 38,000 tonnes per annum green hydrogen capacity,Happiest Minds Technologies Q4 Results: Profit rises 11% YoY to Rs 58 crore; dividend declared at Rs 3.4/share,Kalpataru Power Q4 Results: Net profit up nearly 22% at Rs 140 crore,Alibaba logistics arm eyes up to $2 billion Hong Kong IPO: Reports,NLC India board approves raising up to Rs 5,000 crore via bonds,India, Canada trade ministers to review progress in talks on free trade agreement,Japan's Daiwa to pick up 15% stake in Ambit,Sajjan Jindal group planning JSW Paints stake sale to private equity funds,Fintech firm Fundly.ai bags $3 million in seed funding,Early\\xad-stage VC 3one4 gets $200 million for new fund,WestBridge close to investing Rs 800 crore in Milky Mist at nearly Rs 7,000 crore valuation\",\n",
       "   'Shell firms under scanner of tax authorities over fake ITC claims,Lifestyle International plans to open 50 stores in next 3-4 years,Sanofi India to demerge consumer health biz into a wholly-owned subsidiary,Cisco to start manufacturing in India, eyes $1 billion production capacity,GAIL to build $4.89-bn ethane cracker near LNG import plant in West India,Govt plans green fuel port usage, bunkering in net-zero target push,FinMin to take call on Rs 3,000 crore infusion into 3 PSU general insurers,Sugar production declines 9% in 2022-23 season due to low recovery,EU proposes tougher cybersecurity labelling for Amazon, Google, MS']]}"
      ]
     },
     "execution_count": 17,
     "metadata": {},
     "output_type": "execute_result"
    }
   ],
   "source": [
    "news_collection.query(\n",
    "    query_texts=[\"Blackstone\"],\n",
    "    n_results=2\n",
    ")"
   ]
  },
  {
   "cell_type": "raw",
   "id": "d2c9e2a5-c17a-483a-93c4-7d99ecdf707f",
   "metadata": {},
   "source": []
  },
  {
   "cell_type": "code",
   "execution_count": 18,
   "id": "955b048f-5cab-4ccf-a0c6-bc3f58ecef6d",
   "metadata": {},
   "outputs": [
    {
     "data": {
      "text/plain": [
       "{'ids': [['2023-05-09ET', '2023-05-11BS', '2023-05-11ET']],\n",
       " 'distances': [[1.7775036096572876, 1.8243114948272705, 1.8569608926773071]],\n",
       " 'metadatas': [[{'date': '2023-05-09', 'source': 'Economic Times'},\n",
       "   {'date': '2023-05-11', 'source': 'Business Standard'},\n",
       "   {'date': '2023-05-11', 'source': 'Economic Times'}]],\n",
       " 'embeddings': None,\n",
       " 'documents': [[\"Allianz-Shapoorji looks to exit Hyderabad's IT SEZ Waverock for Rs 2,000 cr,Energy PSUs eye 38,000 tonnes per annum green hydrogen capacity,Happiest Minds Technologies Q4 Results: Profit rises 11% YoY to Rs 58 crore; dividend declared at Rs 3.4/share,Kalpataru Power Q4 Results: Net profit up nearly 22% at Rs 140 crore,Alibaba logistics arm eyes up to $2 billion Hong Kong IPO: Reports,NLC India board approves raising up to Rs 5,000 crore via bonds,India, Canada trade ministers to review progress in talks on free trade agreement,Japan's Daiwa to pick up 15% stake in Ambit,Sajjan Jindal group planning JSW Paints stake sale to private equity funds,Fintech firm Fundly.ai bags $3 million in seed funding,Early\\xad-stage VC 3one4 gets $200 million for new fund,WestBridge close to investing Rs 800 crore in Milky Mist at nearly Rs 7,000 crore valuation\",\n",
       "   'Shell firms under scanner of tax authorities over fake ITC claims,Lifestyle International plans to open 50 stores in next 3-4 years,Sanofi India to demerge consumer health biz into a wholly-owned subsidiary,Cisco to start manufacturing in India, eyes $1 billion production capacity,GAIL to build $4.89-bn ethane cracker near LNG import plant in West India,Govt plans green fuel port usage, bunkering in net-zero target push,FinMin to take call on Rs 3,000 crore infusion into 3 PSU general insurers,Sugar production declines 9% in 2022-23 season due to low recovery,EU proposes tougher cybersecurity labelling for Amazon, Google, MS',\n",
       "   \"Lithium producers Allkem, Livent to combine in $10.6 billion deal,US debt ceiling impasse pushes government credit default swaps to record high,Escorts Kubota Q4 Results: Profit rises 14% YoY to Rs 216.5 crore,L&T Q4 Results: PAT rises 10% YoY to Rs 3,987 cr; dividend declared at Rs 24 per share,Dr Reddy's Labs Q4 Results: PAT sees nine-fold jump to Rs 960 crore, dividend declared at Rs 40/share,JSW Infrastructure files DRHP to raise up to Rs 2,800 crore via IPO,Nabard, SBI Cards may seek up to Rs 5,800 cr via bond issues,US consumer inflation eases to 4.9% in April, better than expectations,IoT startup Doppelio raises $1.2 million in funding from Axilor, Mela Ventures,Logistics startup Ripplr raises $40 million in funding led by Fireside Ventures,Cybersecurity outfit SquareX raises $6 million in funding from Sequoia Capital SEA\"]]}"
      ]
     },
     "execution_count": 18,
     "metadata": {},
     "output_type": "execute_result"
    }
   ],
   "source": [
    "# Identical to above query suggesting query_text is used to create an embedding before\n",
    "# to find the nearest results\n",
    "news_collection.query(\n",
    "    query_embeddings=embedding_func([\"Blackstone\"]),\n",
    "    n_results=3,\n",
    ")"
   ]
  },
  {
   "cell_type": "code",
   "execution_count": 19,
   "id": "c386a952-5842-48df-9491-3e186366792b",
   "metadata": {},
   "outputs": [
    {
     "data": {
      "text/plain": [
       "{'ids': [['2023-05-08M', '2023-05-08ET']],\n",
       " 'distances': [[1.8841373920440674, 1.9864097833633423]],\n",
       " 'metadatas': [[{'date': '2023-05-08', 'source': 'Mint'},\n",
       "   {'date': '2023-05-08', 'source': 'Economic Times'}]],\n",
       " 'embeddings': None,\n",
       " 'documents': [[\"BetterPlace acquires fintech lending startup Bueno Finance,LIC, MFs plough $2 billion into IT firms in Q4 as shares tumble,India eyes clean energy sources to tackle tariffs,India conducts talks with UAE on pharma export pricing challenges,Blackstone, ADIA are likely bidders for HDFC’s Credila,NCLT to hear BoB plea in Rel Home case,Silver ETFs getting investors' traction; asset bases reach ₹1,800 crore,Connekkt Media Network signs ₹270 crore deal with AVS Studios for 3 films,Defence ministry approves posting women officers of Territorial Army along LoC,Grindwell Norton Q4 Earnings: PAT rise 10% YoY in Q4, net income up 20%, Board declares highest ever dividend.\",\n",
       "   'Aditya Birla Fashion to raise up to ₹800 crore for TCNS acquisition,Indus plans capex push this fiscal to make the most of 5G boom,Blackstone signs binding pact for controlling stake in care hospitals,Equitas Small Finance Bank reports Q4 net profit at Rs 190.03 cr,Coal India Q4 Results: Profit declines 18% YoY to Rs 5,528 crore, dividend declared at Rs 4/share,TPG-backed RR Kabel files IPO papers with Sebi,Gold imports dip 24% to $35 billion in 2022-23,GSTN defers by 3 months implementation of e-invoice reporting time limit,Saudi Arabia economy grew 3.9% in Q1 boosted by non-oil activities,ChrysCap diversifies into public market, launches special fund,Daikin India becomes billion-dollar company, expect to double business in next 3 years,Electronic wearables production in India reaches Rs 8,000 crore in FY23,ASK Property Fund raises over ₹1,500cr']]}"
      ]
     },
     "execution_count": 19,
     "metadata": {},
     "output_type": "execute_result"
    }
   ],
   "source": [
    "\n",
    "news_collection.query(\n",
    "    query_embeddings=embedding_func([\"BlackStone\"]),\n",
    "    where_document={\"$contains\":\"Blackstone\"},\n",
    "    n_results=10,\n",
    ")\n"
   ]
  },
  {
   "cell_type": "code",
   "execution_count": 22,
   "id": "121315c6-8657-4743-b18d-a2dccb1aff69",
   "metadata": {},
   "outputs": [
    {
     "data": {
      "text/plain": [
       "{'ids': [['2023-05-08M']],\n",
       " 'distances': None,\n",
       " 'metadatas': None,\n",
       " 'embeddings': None,\n",
       " 'documents': [[\"BetterPlace acquires fintech lending startup Bueno Finance,LIC, MFs plough $2 billion into IT firms in Q4 as shares tumble,India eyes clean energy sources to tackle tariffs,India conducts talks with UAE on pharma export pricing challenges,Blackstone, ADIA are likely bidders for HDFC’s Credila,NCLT to hear BoB plea in Rel Home case,Silver ETFs getting investors' traction; asset bases reach ₹1,800 crore,Connekkt Media Network signs ₹270 crore deal with AVS Studios for 3 films,Defence ministry approves posting women officers of Territorial Army along LoC,Grindwell Norton Q4 Earnings: PAT rise 10% YoY in Q4, net income up 20%, Board declares highest ever dividend.\"]]}"
      ]
     },
     "execution_count": 22,
     "metadata": {},
     "output_type": "execute_result"
    }
   ],
   "source": [
    "# project only documents\n",
    "news_collection.query(\n",
    "    query_embeddings=embedding_func([\"BlackStone\"]),\n",
    "    where_document={\"$contains\":\"BetterPlace\"},\n",
    "    n_results=10,\n",
    "    include=[\"documents\"]\n",
    ")\n"
   ]
  }
 ],
 "metadata": {
  "kernelspec": {
   "display_name": "Python 3 (ipykernel)",
   "language": "python",
   "name": "python3"
  },
  "language_info": {
   "codemirror_mode": {
    "name": "ipython",
    "version": 3
   },
   "file_extension": ".py",
   "mimetype": "text/x-python",
   "name": "python",
   "nbconvert_exporter": "python",
   "pygments_lexer": "ipython3",
   "version": "3.10.11"
  }
 },
 "nbformat": 4,
 "nbformat_minor": 5
}
