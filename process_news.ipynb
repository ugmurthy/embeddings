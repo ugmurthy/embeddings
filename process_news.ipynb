{
 "cells": [
  {
   "cell_type": "markdown",
   "id": "00205a18-d9ee-4056-a182-97dcad54234d",
   "metadata": {},
   "source": [
    "#### This notebook demonstrate populating a vector database (chromadb)\n",
    "\n",
    "The example use text data from a whatsapp newsgroup. A read only group that publishes India business news as one-liner\n",
    "from different newspapers.\n"
   ]
  },
  {
   "cell_type": "code",
   "execution_count": 1,
   "id": "150ab6d4-e883-476b-b26d-645514316cb9",
   "metadata": {},
   "outputs": [],
   "source": [
    "import os\n",
    "import re\n",
    "from datetime import datetime, timedelta\n",
    "\n",
    "from tqdm.notebook import tqdm\n",
    "from time import sleep"
   ]
  },
  {
   "cell_type": "code",
   "execution_count": 2,
   "id": "61be9e1b-ae6f-4525-a87c-a80f9f16e843",
   "metadata": {},
   "outputs": [],
   "source": [
    "import chromadb\n",
    "chroma_client = chromadb.Client()   ## in memory vdb"
   ]
  },
  {
   "cell_type": "markdown",
   "id": "e10d6d75-e3bf-4caa-91c7-ad377b3b2295",
   "metadata": {},
   "source": [
    "### Embedding function\n",
    "By default, Chroma uses the Sentence Transformers all-MiniLM-L6-v2 model to create embeddings. This embedding model can create sentence and document embeddings that can be used for a wide variety of tasks. This embedding function runs locally on your machine, and may require you download the model files (this will happen automatically).\n",
    "\n",
    "\n",
    "### create_collection : distance func\n",
    "`create_collection` also takes an optional metadata argument which can be used to customize the distance method of the embedding space by setting the value of hnsw:space.\n",
    "\n",
    "```\n",
    "collection = client.create_collection(\n",
    "        name=\"collection_name\",\n",
    "        metadata={\"hnsw:space\": \"cosine\"} # l2 is the default\n",
    "    )\n",
    "```\n",
    "\n",
    "HNSW - Heirarchical Network Small World (options are cosine,l2 and ip )"
   ]
  },
  {
   "cell_type": "code",
   "execution_count": 3,
   "id": "80ffa44d-ed11-447a-b587-935e24707247",
   "metadata": {},
   "outputs": [],
   "source": [
    "## VDB related imports\n",
    "from chromadb.utils import embedding_functions\n",
    "# By default Chroma uses \n",
    "embedding_func = embedding_functions.DefaultEmbeddingFunction()\n",
    "news_collection = chroma_client.create_collection(name=\"news\",embedding_function=embedding_func)\n",
    "\n",
    "## news preprocessor\n",
    "from util.text2json import get_news"
   ]
  },
  {
   "cell_type": "code",
   "execution_count": 4,
   "id": "4fab0e90-daba-46b0-81f6-b59a3d2bf152",
   "metadata": {},
   "outputs": [],
   "source": [
    "def add_record(rec,collection):\n",
    "    ''' adds a record to chroma db '''\n",
    "    if type(rec)!=dict: # rec should be a json \n",
    "        return False\n",
    "    if all(x in rec.keys() for x in ['ids' ,'documents','metadatas']) :\n",
    "        try:\n",
    "            collection.add(ids=rec['ids'],documents=rec['documents'],metadatas=rec['metadatas'])\n",
    "        except Exception as e:\n",
    "            print(f\"Error : {e}\")\n",
    "            return False\n",
    "    else:\n",
    "        return False\n"
   ]
  },
  {
   "cell_type": "markdown",
   "id": "9f91dd24-9dd7-41b4-8175-dfb94403fc62",
   "metadata": {},
   "source": [
    "#### PREPROCESSING TEXT FILE\n",
    "\n",
    "get_news return a json making it easy to add to chromadb see: `text2json` notebook for details"
   ]
  },
  {
   "cell_type": "code",
   "execution_count": 5,
   "id": "46fa8ce1-0428-4480-8786-eb718a46a620",
   "metadata": {},
   "outputs": [
    {
     "name": "stdout",
     "output_type": "stream",
     "text": [
      "Rejected lines : 4319\n",
      "News Items : 396\n"
     ]
    }
   ],
   "source": [
    "news=get_news(\"./_test.txt\")"
   ]
  },
  {
   "cell_type": "markdown",
   "id": "9878b13e-9ea2-4793-9485-9c9a04d7a573",
   "metadata": {},
   "source": [
    "#### ADD NEWS TO CHROMADB\n",
    "\n",
    "uses helper function `add_record`"
   ]
  },
  {
   "cell_type": "code",
   "execution_count": 6,
   "id": "e1d88c64-7c5a-4ca1-9b80-a896d89e22de",
   "metadata": {},
   "outputs": [
    {
     "data": {
      "application/vnd.jupyter.widget-view+json": {
       "model_id": "1e351ea56d4d45748e55d2b78d7b4377",
       "version_major": 2,
       "version_minor": 0
      },
      "text/plain": [
       "  0%|          | 0/396 [00:00<?, ?it/s]"
      ]
     },
     "metadata": {},
     "output_type": "display_data"
    },
    {
     "name": "stderr",
     "output_type": "stream",
     "text": [
      "Insert of existing embedding ID: 2023-06-06ET\n",
      "Add of existing embedding ID: 2023-06-06ET\n",
      "Insert of existing embedding ID: 2023-06-06BS\n",
      "Add of existing embedding ID: 2023-06-06BS\n",
      "Insert of existing embedding ID: 2023-06-06FE\n",
      "Add of existing embedding ID: 2023-06-06FE\n",
      "Insert of existing embedding ID: 2023-06-06M\n",
      "Add of existing embedding ID: 2023-06-06M\n",
      "Insert of existing embedding ID: 2023-06-10ET\n",
      "Add of existing embedding ID: 2023-06-10ET\n",
      "Insert of existing embedding ID: 2023-06-10BS\n",
      "Add of existing embedding ID: 2023-06-10BS\n",
      "Insert of existing embedding ID: 2023-06-10FE\n",
      "Add of existing embedding ID: 2023-06-10FE\n",
      "Insert of existing embedding ID: 2023-06-10M\n",
      "Add of existing embedding ID: 2023-06-10M\n",
      "Insert of existing embedding ID: 2023-06-13ET\n",
      "Add of existing embedding ID: 2023-06-13ET\n",
      "Insert of existing embedding ID: 2023-06-13BS\n",
      "Add of existing embedding ID: 2023-06-13BS\n",
      "Insert of existing embedding ID: 2023-06-13FE\n",
      "Add of existing embedding ID: 2023-06-13FE\n",
      "Insert of existing embedding ID: 2023-06-13M\n",
      "Add of existing embedding ID: 2023-06-13M\n",
      "Insert of existing embedding ID: 2023-06-19ET\n",
      "Add of existing embedding ID: 2023-06-19ET\n",
      "Insert of existing embedding ID: 2023-06-19BS\n",
      "Add of existing embedding ID: 2023-06-19BS\n",
      "Insert of existing embedding ID: 2023-06-19FE\n",
      "Add of existing embedding ID: 2023-06-19FE\n",
      "Insert of existing embedding ID: 2023-06-19M\n",
      "Add of existing embedding ID: 2023-06-19M\n",
      "Insert of existing embedding ID: 2023-06-25ET\n",
      "Add of existing embedding ID: 2023-06-25ET\n",
      "Insert of existing embedding ID: 2023-06-25BS\n",
      "Add of existing embedding ID: 2023-06-25BS\n",
      "Insert of existing embedding ID: 2023-06-25FE\n",
      "Add of existing embedding ID: 2023-06-25FE\n",
      "Insert of existing embedding ID: 2023-06-25M\n",
      "Add of existing embedding ID: 2023-06-25M\n",
      "Insert of existing embedding ID: 2023-07-09ET\n",
      "Add of existing embedding ID: 2023-07-09ET\n",
      "Insert of existing embedding ID: 2023-07-09BS\n",
      "Add of existing embedding ID: 2023-07-09BS\n",
      "Insert of existing embedding ID: 2023-07-09FE\n",
      "Add of existing embedding ID: 2023-07-09FE\n",
      "Insert of existing embedding ID: 2023-07-09M\n",
      "Add of existing embedding ID: 2023-07-09M\n",
      "Insert of existing embedding ID: 2023-07-12ET\n",
      "Add of existing embedding ID: 2023-07-12ET\n",
      "Insert of existing embedding ID: 2023-07-12BS\n",
      "Add of existing embedding ID: 2023-07-12BS\n",
      "Insert of existing embedding ID: 2023-07-12FE\n",
      "Add of existing embedding ID: 2023-07-12FE\n",
      "Insert of existing embedding ID: 2023-07-12M\n",
      "Add of existing embedding ID: 2023-07-12M\n",
      "Insert of existing embedding ID: 2023-07-29ET\n",
      "Add of existing embedding ID: 2023-07-29ET\n",
      "Insert of existing embedding ID: 2023-07-29BS\n",
      "Add of existing embedding ID: 2023-07-29BS\n",
      "Insert of existing embedding ID: 2023-07-29FE\n",
      "Add of existing embedding ID: 2023-07-29FE\n",
      "Insert of existing embedding ID: 2023-07-29M\n",
      "Add of existing embedding ID: 2023-07-29M\n"
     ]
    }
   ],
   "source": [
    "for i in tqdm(range(len(news))):\n",
    "    add_record(news[i],news_collection)"
   ]
  },
  {
   "cell_type": "markdown",
   "id": "547a8993-cc16-4d36-84ea-aa1967322f3d",
   "metadata": {},
   "source": [
    "#### FETCH FROM AND QUERY CHROMADB\n",
    "\n",
    "1. fetch records using `.get` and `.peek` using parameter to limit the output\n",
    "2. use `.query` to filter and search for specific meta data\n",
    "\n",
    "Examples follow"
   ]
  },
  {
   "cell_type": "code",
   "execution_count": 7,
   "id": "78fda68f-efa3-4d72-b54c-249c879d6b31",
   "metadata": {},
   "outputs": [
    {
     "data": {
      "text/plain": [
       "{'ids': ['2023-05-08ET', '2023-05-08BS'],\n",
       " 'embeddings': None,\n",
       " 'metadatas': [{'date': '2023-05-08', 'source': 'Economic Times'},\n",
       "  {'date': '2023-05-08', 'source': 'Business Standard'}],\n",
       " 'documents': ['Aditya Birla Fashion to raise up to ₹800 crore for TCNS acquisition,Indus plans capex push this fiscal to make the most of 5G boom,Blackstone signs binding pact for controlling stake in care hospitals,Equitas Small Finance Bank reports Q4 net profit at Rs 190.03 cr,Coal India Q4 Results: Profit declines 18% YoY to Rs 5,528 crore, dividend declared at Rs 4/share,TPG-backed RR Kabel files IPO papers with Sebi,Gold imports dip 24% to $35 billion in 2022-23,GSTN defers by 3 months implementation of e-invoice reporting time limit,Saudi Arabia economy grew 3.9% in Q1 boosted by non-oil activities,ChrysCap diversifies into public market, launches special fund,Daikin India becomes billion-dollar company, expect to double business in next 3 years,Electronic wearables production in India reaches Rs 8,000 crore in FY23,ASK Property Fund raises over ₹1,500cr',\n",
       "  \"Centre plans to tweak allocation of FAME funds for electric buses,Avighna Group to invest Rs 1,000 crore to develop towers in Mumbai,Tata Starbucks adds bite-sized food, small portions beverages to its menu,Adani's Mundra port cargo adds Rs 80,732 crore to Customs' coffers,Muthoot Microfin to foray into Andhra Pradesh, Telangana in FY24,FM Sitharaman to review state of economy at FSDC meeting on Monday,To avoid 2022 crisis, Indian Railways ferries more coal for electricity,IMF team flags risks to Bangladesh economy as reserves fall further,Realtors closed 87 land deals totalling 1,862 acre in FY23: Anarock,Irdai proposes to tighten norms for media campaigns by insurance cos,AC sales dip 15% in April as temperature falls; expected to recover in May\"]}"
      ]
     },
     "execution_count": 7,
     "metadata": {},
     "output_type": "execute_result"
    }
   ],
   "source": [
    "news_collection.get(limit=2)        # limit to 2 records\n",
    "# you can use peek() instead of get() as it shows embeddings too\n",
    "#news_collection.peek()"
   ]
  },
  {
   "cell_type": "code",
   "execution_count": 8,
   "id": "231f608a-40cd-4559-9870-7433095bebaf",
   "metadata": {},
   "outputs": [
    {
     "data": {
      "text/plain": [
       "{'ids': [['2023-07-07BS', '2023-07-29BS']],\n",
       " 'distances': [[1.305416226387024, 1.5939037799835205]],\n",
       " 'metadatas': [[{'date': '2023-07-07', 'source': 'Business Standard'},\n",
       "   {'date': '2023-07-29', 'source': 'Business Standard'}]],\n",
       " 'embeddings': None,\n",
       " 'documents': [['Blackstone Group top bidder for ESR, German investor Allianz platform,RBI governor Shaktikanta Das asks states to improve expenditure quality,Non-life insurance companies report 14% growth in June, shows GIC data,Epsilon Advanced Materials to up India capacity from 200 TPA to 10,000,PSBs should follow transparent NPA recognition norms, pursue risk mgmt: FM,Rationalise tariff on telecom parts to encourage other countries: Industry,State Bank of India rejigs senior leadership roles to boost dominance,Bombay Dyeing may sell Worli land parcel at Rs 5,000 cr valuation',\n",
       "   \"Blackstone, Baring in race to acquire up to 20% stake in pharma firm Cipla,'Diversify credit portfolio': FinMin flags concentration risk at 5 PSBs,Sterlite Technologies Q1 results: Net profit rises 156% to Rs 46 crore,Bajaj Finserv Q1 results: Consolidated net profit up 48% to Rs 1,943 crore,Indian Hotels Company consolidated net profit up 30.5% to Rs 236 cr in Q1,AirAsia India gets nod to operate under 'Air India Express' brand,Nirma looks to raise up to Rs 7,000 crore to fund buys and expansion,Nestle India net profit rises 36.9% in June qtr on higher sales and margins,Airtel Africa posts $151 million net loss in Q1; revenue rises 9.6%,Foxconn unit in talks for $200 million components plant in Tamil Nadu,Shriram Finance Q1 net up 27%; targets Rs 2 trillion AUM by next quarter,Lok Sabha passes Jan Vishwas Bill to promote ease of doing business,Banks recovered bad loans worth Rs 10.16 trillion in 9 years: FinMin\"]]}"
      ]
     },
     "execution_count": 8,
     "metadata": {},
     "output_type": "execute_result"
    }
   ],
   "source": [
    "news_collection.query(\n",
    "    query_texts=[\"Blackstone\"],\n",
    "    n_results=2\n",
    ")"
   ]
  },
  {
   "cell_type": "raw",
   "id": "d2c9e2a5-c17a-483a-93c4-7d99ecdf707f",
   "metadata": {},
   "source": []
  },
  {
   "cell_type": "code",
   "execution_count": 9,
   "id": "955b048f-5cab-4ccf-a0c6-bc3f58ecef6d",
   "metadata": {},
   "outputs": [
    {
     "data": {
      "text/plain": [
       "{'ids': [['2023-07-07BS', '2023-07-29BS', '2023-08-14ET']],\n",
       " 'distances': [[1.305416226387024, 1.5939037799835205, 1.5994011163711548]],\n",
       " 'metadatas': [[{'date': '2023-07-07', 'source': 'Business Standard'},\n",
       "   {'date': '2023-07-29', 'source': 'Business Standard'},\n",
       "   {'date': '2023-08-14', 'source': 'Economic Times'}]],\n",
       " 'embeddings': None,\n",
       " 'documents': [['Blackstone Group top bidder for ESR, German investor Allianz platform,RBI governor Shaktikanta Das asks states to improve expenditure quality,Non-life insurance companies report 14% growth in June, shows GIC data,Epsilon Advanced Materials to up India capacity from 200 TPA to 10,000,PSBs should follow transparent NPA recognition norms, pursue risk mgmt: FM,Rationalise tariff on telecom parts to encourage other countries: Industry,State Bank of India rejigs senior leadership roles to boost dominance,Bombay Dyeing may sell Worli land parcel at Rs 5,000 cr valuation',\n",
       "   \"Blackstone, Baring in race to acquire up to 20% stake in pharma firm Cipla,'Diversify credit portfolio': FinMin flags concentration risk at 5 PSBs,Sterlite Technologies Q1 results: Net profit rises 156% to Rs 46 crore,Bajaj Finserv Q1 results: Consolidated net profit up 48% to Rs 1,943 crore,Indian Hotels Company consolidated net profit up 30.5% to Rs 236 cr in Q1,AirAsia India gets nod to operate under 'Air India Express' brand,Nirma looks to raise up to Rs 7,000 crore to fund buys and expansion,Nestle India net profit rises 36.9% in June qtr on higher sales and margins,Airtel Africa posts $151 million net loss in Q1; revenue rises 9.6%,Foxconn unit in talks for $200 million components plant in Tamil Nadu,Shriram Finance Q1 net up 27%; targets Rs 2 trillion AUM by next quarter,Lok Sabha passes Jan Vishwas Bill to promote ease of doing business,Banks recovered bad loans worth Rs 10.16 trillion in 9 years: FinMin\",\n",
       "   'Blackstone leads race to buy Kerala’s Kims Hospital chain,Reliance Jio Infocomm to pay ₹7,864 crore 5G instalment this week,NPA provisioning of banks increases sequentially in Q1 driven by select lenders,Netweb Technologies Q1 Results: Profit declines 9% YoY to Rs 5 crore, revenue drops 13%,Radcliffe Labs aims to scale up operations; go public in 2025-26,FDI in information and broadcasting sector surges 231% to Rs 3,745 crore in FY23,MCA allows 1,270 requests from CA, CS bodies to merge user IDs,Insurers concerned about data handling in new digital regime,Electricity output sees marginal growth of 1.3 pc in Apr-Jun due to unseasonal rains: Govt data']]}"
      ]
     },
     "execution_count": 9,
     "metadata": {},
     "output_type": "execute_result"
    }
   ],
   "source": [
    "# Identical to above query suggesting query_text is used to create an embedding before\n",
    "# to find the nearest results\n",
    "news_collection.query(\n",
    "    query_embeddings=embedding_func([\"Blackstone\"]),\n",
    "    n_results=3,\n",
    ")"
   ]
  },
  {
   "cell_type": "code",
   "execution_count": 10,
   "id": "c386a952-5842-48df-9491-3e186366792b",
   "metadata": {},
   "outputs": [
    {
     "data": {
      "text/plain": [
       "{'ids': [['2023-07-07BS',\n",
       "   '2023-07-29BS',\n",
       "   '2023-08-14ET',\n",
       "   '2023-05-22ET',\n",
       "   '2023-05-08ET',\n",
       "   '2023-06-08BS',\n",
       "   '2023-05-18ET',\n",
       "   '2023-05-08M',\n",
       "   '2023-06-27M']],\n",
       " 'distances': [[1.186376929283142,\n",
       "   1.550341248512268,\n",
       "   1.5727812051773071,\n",
       "   1.7622734308242798,\n",
       "   1.9258756637573242,\n",
       "   1.9982293844223022,\n",
       "   2.0005414485931396,\n",
       "   2.0247809886932373,\n",
       "   2.078800916671753]],\n",
       " 'metadatas': [[{'date': '2023-07-07', 'source': 'Business Standard'},\n",
       "   {'date': '2023-07-29', 'source': 'Business Standard'},\n",
       "   {'date': '2023-08-14', 'source': 'Economic Times'},\n",
       "   {'date': '2023-05-22', 'source': 'Economic Times'},\n",
       "   {'date': '2023-05-08', 'source': 'Economic Times'},\n",
       "   {'date': '2023-06-08', 'source': 'Business Standard'},\n",
       "   {'date': '2023-05-18', 'source': 'Economic Times'},\n",
       "   {'date': '2023-05-08', 'source': 'Mint'},\n",
       "   {'date': '2023-06-27', 'source': 'Mint'}]],\n",
       " 'embeddings': None,\n",
       " 'documents': [['Blackstone Group top bidder for ESR, German investor Allianz platform,RBI governor Shaktikanta Das asks states to improve expenditure quality,Non-life insurance companies report 14% growth in June, shows GIC data,Epsilon Advanced Materials to up India capacity from 200 TPA to 10,000,PSBs should follow transparent NPA recognition norms, pursue risk mgmt: FM,Rationalise tariff on telecom parts to encourage other countries: Industry,State Bank of India rejigs senior leadership roles to boost dominance,Bombay Dyeing may sell Worli land parcel at Rs 5,000 cr valuation',\n",
       "   \"Blackstone, Baring in race to acquire up to 20% stake in pharma firm Cipla,'Diversify credit portfolio': FinMin flags concentration risk at 5 PSBs,Sterlite Technologies Q1 results: Net profit rises 156% to Rs 46 crore,Bajaj Finserv Q1 results: Consolidated net profit up 48% to Rs 1,943 crore,Indian Hotels Company consolidated net profit up 30.5% to Rs 236 cr in Q1,AirAsia India gets nod to operate under 'Air India Express' brand,Nirma looks to raise up to Rs 7,000 crore to fund buys and expansion,Nestle India net profit rises 36.9% in June qtr on higher sales and margins,Airtel Africa posts $151 million net loss in Q1; revenue rises 9.6%,Foxconn unit in talks for $200 million components plant in Tamil Nadu,Shriram Finance Q1 net up 27%; targets Rs 2 trillion AUM by next quarter,Lok Sabha passes Jan Vishwas Bill to promote ease of doing business,Banks recovered bad loans worth Rs 10.16 trillion in 9 years: FinMin\",\n",
       "   'Blackstone leads race to buy Kerala’s Kims Hospital chain,Reliance Jio Infocomm to pay ₹7,864 crore 5G instalment this week,NPA provisioning of banks increases sequentially in Q1 driven by select lenders,Netweb Technologies Q1 Results: Profit declines 9% YoY to Rs 5 crore, revenue drops 13%,Radcliffe Labs aims to scale up operations; go public in 2025-26,FDI in information and broadcasting sector surges 231% to Rs 3,745 crore in FY23,MCA allows 1,270 requests from CA, CS bodies to merge user IDs,Insurers concerned about data handling in new digital regime,Electricity output sees marginal growth of 1.3 pc in Apr-Jun due to unseasonal rains: Govt data',\n",
       "   \"TCS, ITI get ₹15,700 crore advance orders for 1 lakh BSNL 4G sites,Reliance Power proposes settlement of Rs 1,200 crore to Vidarbha Inds Lenders,AAI back on profitable runway; reports Rs 3,400 crore profit in 2022-23 fiscal,Public sector banks' total profit crosses Rs 1 lakh crore-mark in FY23,Blackstone acquires diamond certification co IGI for $570 mn,Biden unveils new $375 million U.S. military aid package for Ukraine,Piyush Goyal sees Rs 6,850 crore investments in MP mega textile park,JSW Steel to use entire Rs 18,000 crore fundraise to refinance debt in FY24\",\n",
       "   'Aditya Birla Fashion to raise up to ₹800 crore for TCNS acquisition,Indus plans capex push this fiscal to make the most of 5G boom,Blackstone signs binding pact for controlling stake in care hospitals,Equitas Small Finance Bank reports Q4 net profit at Rs 190.03 cr,Coal India Q4 Results: Profit declines 18% YoY to Rs 5,528 crore, dividend declared at Rs 4/share,TPG-backed RR Kabel files IPO papers with Sebi,Gold imports dip 24% to $35 billion in 2022-23,GSTN defers by 3 months implementation of e-invoice reporting time limit,Saudi Arabia economy grew 3.9% in Q1 boosted by non-oil activities,ChrysCap diversifies into public market, launches special fund,Daikin India becomes billion-dollar company, expect to double business in next 3 years,Electronic wearables production in India reaches Rs 8,000 crore in FY23,ASK Property Fund raises over ₹1,500cr',\n",
       "   'Union Cabinet approves Rs 89,000-crore third revival package for BSNL,Around 35% of Rs 2,000 currency notes deposited or exchanged so far,Tata Motors looking to increase localisation of electric vehicles to 85%,Crisis-hit Jaiprakash Associates defaults on Rs 3,961-crore loans on May 31,Allcargo Logistics arm to sell stake in logistics parks to Blackstone,Infosys grows footprint in the Nordics with new proximity centre in Norway,MRPL shelves plans of refinery expansion to focus on chemicals bet,Bond issuances by banks to fall below Rs 90,000 cr in FY24: Report,Govt raises kharif paddy MSP by 7%; largest hikes for moong and groundnut,State-owned BoM raises Rs 1,000 cr via qualified institutional placement,Cabinet approves Rs 2,980 cr for Exploration of Coal and Lignite scheme',\n",
       "   \"HDFC, PFC plan debt raise of up to Rs 6,500 cr,Cabinet clears fertiliser subsidy for Kharif season,REC March qtr net profit zooms 31% YoY to Rs 3,001 crore,JK Tyre Q4 Results: Profit rises nearly three-fold to Rs 1.08 billion,Devyani International Q4 Results: Profit falls 19% YoY to 61 crore; revenue up 28%,Government tightens rules on global credit card transactions by Indian travellers abroad,Vedanta Resources Ltd taps global banks for $500-600 million loan,Falling premiums at LIC drag life insurers' income down by 30%,Cabinet approves PLI-II for IT hardware with Rs 17,000 crore outlay,Blackstone set to buy diamond grading company IGI for up to $550 million,BPCL board okays Rs 49,000 cr capex for Bina Refinery,Solar panel maker Waaree in talks to raise Rs 1,000 crore,Fashion giant Shein raises $2 billion but lowers valuation by a third,Water technology firm Gradiant hits $1 billion valuation after fundraising\",\n",
       "   \"BetterPlace acquires fintech lending startup Bueno Finance,LIC, MFs plough $2 billion into IT firms in Q4 as shares tumble,India eyes clean energy sources to tackle tariffs,India conducts talks with UAE on pharma export pricing challenges,Blackstone, ADIA are likely bidders for HDFC’s Credila,NCLT to hear BoB plea in Rel Home case,Silver ETFs getting investors' traction; asset bases reach ₹1,800 crore,Connekkt Media Network signs ₹270 crore deal with AVS Studios for 3 films,Defence ministry approves posting women officers of Territorial Army along LoC,Grindwell Norton Q4 Earnings: PAT rise 10% YoY in Q4, net income up 20%, Board declares highest ever dividend.\",\n",
       "   'Lupin mulls internal restructuring options, to separate its API biz: Report,FPIs seek exemption from stricter disclosure norms,Blackstone, General Atlantic, 2 other PEs vie for Indira IVF,Govt launches Nandi portal for granting NOC for veterinary drugs, vaccines,TCS names new head of hiring amid probe,Google asks Supreme Court to quash remaining Android antitrust directives,HUL added nearly ₹33,000 cr as incremental turnover in last decade: Chairman,ICICI Prudential gets show cause cum demand notice from DGGI,IBM to buy Apptio for $4.6 bn for bolstering automation and cloud capabilities.']]}"
      ]
     },
     "execution_count": 10,
     "metadata": {},
     "output_type": "execute_result"
    }
   ],
   "source": [
    "\n",
    "news_collection.query(\n",
    "    query_embeddings=embedding_func([\"What does black BlackStone do\"]),\n",
    "    where_document={\"$contains\":\"Blackstone\"},\n",
    "    n_results=10,\n",
    ")\n"
   ]
  },
  {
   "cell_type": "code",
   "execution_count": 11,
   "id": "121315c6-8657-4743-b18d-a2dccb1aff69",
   "metadata": {},
   "outputs": [
    {
     "data": {
      "text/plain": [
       "{'ids': [['2023-05-08M']],\n",
       " 'distances': None,\n",
       " 'metadatas': None,\n",
       " 'embeddings': None,\n",
       " 'documents': [[\"BetterPlace acquires fintech lending startup Bueno Finance,LIC, MFs plough $2 billion into IT firms in Q4 as shares tumble,India eyes clean energy sources to tackle tariffs,India conducts talks with UAE on pharma export pricing challenges,Blackstone, ADIA are likely bidders for HDFC’s Credila,NCLT to hear BoB plea in Rel Home case,Silver ETFs getting investors' traction; asset bases reach ₹1,800 crore,Connekkt Media Network signs ₹270 crore deal with AVS Studios for 3 films,Defence ministry approves posting women officers of Territorial Army along LoC,Grindwell Norton Q4 Earnings: PAT rise 10% YoY in Q4, net income up 20%, Board declares highest ever dividend.\"]]}"
      ]
     },
     "execution_count": 11,
     "metadata": {},
     "output_type": "execute_result"
    }
   ],
   "source": [
    "# project only documents\n",
    "news_collection.query(\n",
    "    query_embeddings=embedding_func([\"BlackStone\"]),\n",
    "    where_document={\"$contains\":\"BetterPlace\"},\n",
    "    n_results=10,\n",
    "    include=[\"documents\"]\n",
    ")\n"
   ]
  }
 ],
 "metadata": {
  "kernelspec": {
   "display_name": "Python 3 (ipykernel)",
   "language": "python",
   "name": "python3"
  },
  "language_info": {
   "codemirror_mode": {
    "name": "ipython",
    "version": 3
   },
   "file_extension": ".py",
   "mimetype": "text/x-python",
   "name": "python",
   "nbconvert_exporter": "python",
   "pygments_lexer": "ipython3",
   "version": "3.10.11"
  }
 },
 "nbformat": 4,
 "nbformat_minor": 5
}
